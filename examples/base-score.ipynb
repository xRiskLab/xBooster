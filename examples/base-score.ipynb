{
 "cells": [
  {
   "cell_type": "markdown",
   "id": "42f10fae",
   "metadata": {},
   "source": [
    "## Example 1"
   ]
  },
  {
   "cell_type": "code",
   "execution_count": 1,
   "id": "0008a158",
   "metadata": {},
   "outputs": [
    {
     "name": "stdout",
     "output_type": "stream",
     "text": [
      "['0:[f20<16.8199997] yes=1,no=2,missing=2\\n'\n",
      " '\\t1:[f27<0.135700002] yes=3,no=4,missing=4\\n'\n",
      " '\\t\\t3:leaf=0.455090463\\n'\n",
      " '\\t\\t4:leaf=-0.258650124\\n'\n",
      " '\\t2:[f21<19.5900002] yes=5,no=6,missing=6\\n'\n",
      " '\\t\\t5:leaf=-0.0975049734\\n'\n",
      " '\\t\\t6:leaf=-0.76574719\\n']\n"
     ]
    },
    {
     "data": {
      "text/plain": [
       "Tree                                               0\n",
       "Node                                               3\n",
       "Feature                                          f27\n",
       "Sign                                               <\n",
       "Split                                         0.1357\n",
       "Count                                          332.0\n",
       "CountPct                                     0.58348\n",
       "NonEvents                                        5.0\n",
       "Events                                         327.0\n",
       "EventRate                                    0.98494\n",
       "WOE                                         3.659373\n",
       "IV                                          3.265556\n",
       "XAddEvidence                                 0.45509\n",
       "DetailedSplit    f20 < 16.8199997, f27 < 0.135700002\n",
       "Name: 0, dtype: object"
      ]
     },
     "execution_count": 1,
     "metadata": {},
     "output_type": "execute_result"
    },
    {
     "data": {
      "image/png": "[encoded data removed]",
      "text/plain": [
       "<Figure size 640x480 with 1 Axes>"
      ]
     },
     "metadata": {},
     "output_type": "display_data"
    }
   ],
   "source": [
    "import json\n",
    "from pprint import pprint\n",
    "\n",
    "import numpy as np\n",
    "import xgboost as xgb\n",
    "from scipy.special import logit\n",
    "from sklearn.datasets import load_breast_cancer\n",
    "from xgboost import plot_tree\n",
    "from xbooster.constructor import XGBScorecardConstructor\n",
    "\n",
    "\n",
    "def extract_model_param(booster, param):\n",
    "    \"\"\"\n",
    "    Extracts a specific parameter from the XGBoost model configuration.\n",
    "\n",
    "    Args:\n",
    "        param (str): The name of the parameter to extract.\n",
    "\n",
    "    Returns:\n",
    "        float: The extracted parameter value.\n",
    "    \"\"\"\n",
    "    config = json.loads(booster.save_config())\n",
    "    if param == \"base_score\":\n",
    "        return float(config[\"learner\"][\"learner_model_param\"][param])\n",
    "    return float(config[\"learner\"][\"gradient_booster\"][\"tree_train_param\"][param])\n",
    "\n",
    "\n",
    "# Load data\n",
    "data = load_breast_cancer()\n",
    "X, y = data.data, data.target\n",
    "n_rounds = 2\n",
    "\n",
    "# Fit model\n",
    "model = xgb.XGBClassifier(n_estimators=n_rounds, max_depth=2, eval_metric=\"logloss\")\n",
    "model.fit(X, y)\n",
    "\n",
    "# Get booster object\n",
    "booster = model.get_booster()\n",
    "base_score = extract_model_param(booster, \"base_score\")\n",
    "\n",
    "# Plot a tree\n",
    "tree_idx = 0\n",
    "plot_tree(booster, num_trees=tree_idx)\n",
    "# Print dump from tree 1\n",
    "pprint(booster[tree_idx].get_dump())\n",
    "\n",
    "\n",
    "scorecard_constructor = XGBScorecardConstructor(model, X, y)\n",
    "scorecard_constructor.base_score\n",
    "\n",
    "# Build scorecard\n",
    "scorecard_constructor.construct_scorecard().query(f\"Tree == {tree_idx}\").iloc[0]"
   ]
  },
  {
   "cell_type": "code",
   "execution_count": 2,
   "id": "acf15376",
   "metadata": {},
   "outputs": [
    {
     "name": "stdout",
     "output_type": "stream",
     "text": [
      "predict_proba: [0.48015887 0.3213339  0.3213339  0.6082139  0.48015887]\n",
      "internal (logit): [0.508913  0.3469243 0.3469243 0.6352653 0.508913 ]\n",
      "internal (proba): [0.48015884 0.3213339  0.3213339  0.6082139  0.48015884]\n"
     ]
    }
   ],
   "source": [
    "def calculate_results(booster, X, base_score, logit_scale=True):\n",
    "    # Use logit to inverse the base score back to raw leaf value (margin)\n",
    "    scores = np.full((X.shape[0],), logit(base_score) if logit_scale else base_score)\n",
    "    for i in range(n_rounds):\n",
    "        # - Use output_margin to get raw leaf values\n",
    "        # - Use iteration_range to get prediction for only one tree\n",
    "        # - Use previous prediction as base margin for the model\n",
    "        Xy_test = xgb.DMatrix(X, base_margin=scores)\n",
    "\n",
    "        if i == n_rounds - 1:\n",
    "            # last round, get the transformed prediction\n",
    "            scores = booster.predict(Xy_test, iteration_range=(i, i + 1), output_margin=False)\n",
    "        else:\n",
    "            # get raw leaf value for accumulation\n",
    "            scores = booster.predict(Xy_test, iteration_range=(i, i + 1), output_margin=True)\n",
    "\n",
    "    return scores\n",
    "\n",
    "\n",
    "results_proba_scale = calculate_results(booster, X, base_score)\n",
    "results_logit_scale = calculate_results(booster, X, base_score, logit_scale=False)\n",
    "\n",
    "# Get probas from the model\n",
    "print(\"predict_proba:\", model.predict_proba(X)[:, 1][:5])\n",
    "print(\"internal (logit):\", np.array(results_logit_scale).ravel()[:5])\n",
    "print(\"internal (proba):\", np.array(results_proba_scale).ravel()[:5])"
   ]
  },
  {
   "cell_type": "code",
   "execution_count": 3,
   "id": "4fad496f",
   "metadata": {},
   "outputs": [
    {
     "name": "stdout",
     "output_type": "stream",
     "text": [
      "predict_proba: [0.48015887 0.3213339  0.3213339  0.6082139  0.48015887]\n",
      "internal (logit): [0.50891299 0.34692429 0.34692429 0.63526533 0.50891299]\n",
      "internal (proba): [0.48015882 0.32133387 0.32133387 0.60821386 0.48015882]\n"
     ]
    }
   ],
   "source": [
    "import numpy as np\n",
    "import xgboost as xgb\n",
    "from scipy.special import logit, expit\n",
    "\n",
    "\n",
    "def calculate_results_xbooster(booster, X, base_score, logit_scale=True):\n",
    "    \"\"\"\n",
    "    Fixed base (prob or margin depending on `logit_scale`), per-tree raw deltas, sum -> final margin.\n",
    "    \"\"\"\n",
    "    n_rounds = booster.num_boosted_rounds()\n",
    "    base = logit(base_score) if logit_scale else base_score  # convert prob -> margin if needed\n",
    "    base_vec = np.full((X.shape[0],), base)\n",
    "    dm = xgb.DMatrix(X, base_margin=base_vec)\n",
    "\n",
    "    per_tree = []\n",
    "    for i in range(n_rounds):\n",
    "        pred = booster.predict(dm, iteration_range=(i, i + 1), output_margin=True)\n",
    "        per_tree.append((pred - base_vec).ravel())  # tree contribution in raw space\n",
    "\n",
    "    return base_vec + np.column_stack(per_tree).sum(axis=1) if per_tree else base_vec\n",
    "\n",
    "\n",
    "results_proba_scale = calculate_results_xbooster(booster, X, base_score, logit_scale=True)\n",
    "results_logit_scale = calculate_results_xbooster(booster, X, base_score, logit_scale=False)\n",
    "\n",
    "print(\"predict_proba:\", model.predict_proba(X)[:, 1][:5])\n",
    "print(\"internal (logit):\", expit(results_logit_scale)[:5])\n",
    "print(\"internal (proba):\", expit(results_proba_scale)[:5])\n",
    "# predict_proba: [0.48015887 0.3213339  0.3213339  0.6082139  0.48015887]\n",
    "# internal (logit): [0.50891299 0.34692429 0.34692429 0.63526533 0.50891299]\n",
    "# internal (proba): [0.48015882 0.32133387 0.32133387 0.60821386 0.48015882]"
   ]
  }
 ],
 "metadata": {
  "kernelspec": {
   "display_name": ".venv",
   "language": "python",
   "name": "python3"
  },
  "language_info": {
   "codemirror_mode": {
    "name": "ipython",
    "version": 3
   },
   "file_extension": ".py",
   "mimetype": "text/x-python",
   "name": "python",
   "nbconvert_exporter": "python",
   "pygments_lexer": "ipython3",
   "version": "3.10.16"
  }
 },
 "nbformat": 4,
 "nbformat_minor": 5
}
